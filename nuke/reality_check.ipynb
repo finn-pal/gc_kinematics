{
 "cells": [
  {
   "cell_type": "code",
   "execution_count": 1,
   "metadata": {},
   "outputs": [],
   "source": [
    "import os\n",
    "\n",
    "import agama\n",
    "import h5py\n",
    "import matplotlib.pyplot as plt\n",
    "import numpy as np\n",
    "from gc_utils import iteration_name, main_prog_halt, snapshot_name  # type: ignore\n",
    "from matplotlib.animation import PillowWriter"
   ]
  },
  {
   "cell_type": "code",
   "execution_count": 2,
   "metadata": {},
   "outputs": [],
   "source": [
    "sim = \"m12i\"\n",
    "\n",
    "sim_dir = \"/Users/z5114326/Documents/simulations/\"\n",
    "data_dir = \"/Users/z5114326/Documents/GitHub/gc_kinematics/data/\"\n",
    "\n",
    "fire_dir = sim_dir + sim + \"/\" + sim + \"_res7100/\"\n",
    "\n",
    "proc_file = sim_dir + sim + \"/\" + sim + \"_processed.hdf5\"\n",
    "proc_data = h5py.File(proc_file, \"r\")  # open processed data file"
   ]
  },
  {
   "cell_type": "code",
   "execution_count": 54,
   "metadata": {},
   "outputs": [],
   "source": [
    "it = 0\n",
    "grp_int = 0\n",
    "\n",
    "it_id = iteration_name(it)\n",
    "source_dat = proc_data[it_id][\"source\"]\n",
    "\n",
    "source_mask = (\n",
    "    (np.array(source_dat[\"t_dis\"]) != -1)\n",
    "    & (np.array(source_dat[\"group_id\"]) == grp_int)\n",
    "    & (np.array(source_dat[\"analyse_flag\"]) == 1)\n",
    ")"
   ]
  },
  {
   "cell_type": "code",
   "execution_count": 57,
   "metadata": {},
   "outputs": [
    {
     "data": {
      "text/plain": [
       "(array([5354]), array([28040292]), array([210]), array([13.764]))"
      ]
     },
     "execution_count": 57,
     "metadata": {},
     "output_type": "execute_result"
    }
   ],
   "source": [
    "idx = np.where(source_dat[\"t_dis\"][source_mask] == np.max(source_dat[\"t_dis\"][source_mask]))[0]\n",
    "gcid = source_dat[\"gc_id\"][source_mask][idx]\n",
    "idx, gcid, source_dat[\"snap_zform\"][source_mask][idx], source_dat[\"t_dis\"][source_mask][idx]"
   ]
  },
  {
   "cell_type": "code",
   "execution_count": 58,
   "metadata": {},
   "outputs": [],
   "source": [
    "key_lst = []\n",
    "for key in proc_data[it_id][\"snapshots\"].keys():\n",
    "    if int(key[4:]) >= 210:\n",
    "        key_lst.append(key)"
   ]
  },
  {
   "cell_type": "code",
   "execution_count": 60,
   "metadata": {},
   "outputs": [
    {
     "data": {
      "text/plain": [
       "['snap214',\n",
       " 'snap277',\n",
       " 'snap294',\n",
       " 'snap312',\n",
       " 'snap332',\n",
       " 'snap356',\n",
       " 'snap382',\n",
       " 'snap412',\n",
       " 'snap446',\n",
       " 'snap486',\n",
       " 'snap534',\n",
       " 'snap590',\n",
       " 'snap591',\n",
       " 'snap592',\n",
       " 'snap593',\n",
       " 'snap594',\n",
       " 'snap595',\n",
       " 'snap596',\n",
       " 'snap597',\n",
       " 'snap598',\n",
       " 'snap599',\n",
       " 'snap600']"
      ]
     },
     "execution_count": 60,
     "metadata": {},
     "output_type": "execute_result"
    }
   ],
   "source": [
    "key_lst"
   ]
  },
  {
   "cell_type": "code",
   "execution_count": 61,
   "metadata": {},
   "outputs": [
    {
     "name": "stdout",
     "output_type": "stream",
     "text": [
      "snap214 5.21\n",
      "snap277 5.166\n",
      "snap294 5.149\n",
      "snap312 5.119\n",
      "snap332 5.109\n",
      "snap356 5.076\n",
      "snap382 5.034\n",
      "snap412 4.988\n",
      "snap446 4.969\n",
      "snap486 4.876\n",
      "snap534 4.682\n"
     ]
    },
    {
     "ename": "IndexError",
     "evalue": "index 0 is out of bounds for axis 0 with size 0",
     "output_type": "error",
     "traceback": [
      "\u001b[0;31m---------------------------------------------------------------------------\u001b[0m",
      "\u001b[0;31mIndexError\u001b[0m                                Traceback (most recent call last)",
      "Cell \u001b[0;32mIn[61], line 3\u001b[0m\n\u001b[1;32m      1\u001b[0m \u001b[38;5;28;01mfor\u001b[39;00m key \u001b[38;5;129;01min\u001b[39;00m key_lst:\n\u001b[1;32m      2\u001b[0m     snap_dict \u001b[38;5;241m=\u001b[39m proc_data[it_id][\u001b[38;5;124m\"\u001b[39m\u001b[38;5;124msnapshots\u001b[39m\u001b[38;5;124m\"\u001b[39m][key]\n\u001b[0;32m----> 3\u001b[0m     idx \u001b[38;5;241m=\u001b[39m \u001b[43mnp\u001b[49m\u001b[38;5;241;43m.\u001b[39;49m\u001b[43mwhere\u001b[49m\u001b[43m(\u001b[49m\u001b[43m(\u001b[49m\u001b[43mnp\u001b[49m\u001b[38;5;241;43m.\u001b[39;49m\u001b[43marray\u001b[49m\u001b[43m(\u001b[49m\u001b[43msnap_dict\u001b[49m\u001b[43m[\u001b[49m\u001b[38;5;124;43m\"\u001b[39;49m\u001b[38;5;124;43mgc_id\u001b[39;49m\u001b[38;5;124;43m\"\u001b[39;49m\u001b[43m]\u001b[49m\u001b[43m)\u001b[49m\u001b[43m \u001b[49m\u001b[38;5;241;43m==\u001b[39;49m\u001b[43m \u001b[49m\u001b[43mgcid\u001b[49m\u001b[43m)\u001b[49m\u001b[43m)\u001b[49m\u001b[43m[\u001b[49m\u001b[38;5;241;43m0\u001b[39;49m\u001b[43m]\u001b[49m\u001b[43m[\u001b[49m\u001b[38;5;241;43m0\u001b[39;49m\u001b[43m]\u001b[49m\n\u001b[1;32m      4\u001b[0m     \u001b[38;5;28mprint\u001b[39m(key, snap_dict[\u001b[38;5;124m\"\u001b[39m\u001b[38;5;124mmass\u001b[39m\u001b[38;5;124m\"\u001b[39m][idx])\n",
      "\u001b[0;31mIndexError\u001b[0m: index 0 is out of bounds for axis 0 with size 0"
     ]
    }
   ],
   "source": [
    "for key in key_lst:\n",
    "    snap_dict = proc_data[it_id][\"snapshots\"][key]\n",
    "    idx = np.where((np.array(snap_dict[\"gc_id\"]) == gcid))[0][0]\n",
    "    print(key, snap_dict[\"mass\"][idx])"
   ]
  },
  {
   "cell_type": "code",
   "execution_count": null,
   "metadata": {},
   "outputs": [],
   "source": []
  },
  {
   "cell_type": "code",
   "execution_count": null,
   "metadata": {},
   "outputs": [],
   "source": []
  },
  {
   "cell_type": "code",
   "execution_count": null,
   "metadata": {},
   "outputs": [],
   "source": []
  },
  {
   "cell_type": "code",
   "execution_count": null,
   "metadata": {},
   "outputs": [],
   "source": []
  },
  {
   "cell_type": "code",
   "execution_count": null,
   "metadata": {},
   "outputs": [],
   "source": []
  }
 ],
 "metadata": {
  "kernelspec": {
   "display_name": ".venv",
   "language": "python",
   "name": "python3"
  },
  "language_info": {
   "codemirror_mode": {
    "name": "ipython",
    "version": 3
   },
   "file_extension": ".py",
   "mimetype": "text/x-python",
   "name": "python",
   "nbconvert_exporter": "python",
   "pygments_lexer": "ipython3",
   "version": "3.12.7"
  }
 },
 "nbformat": 4,
 "nbformat_minor": 2
}
