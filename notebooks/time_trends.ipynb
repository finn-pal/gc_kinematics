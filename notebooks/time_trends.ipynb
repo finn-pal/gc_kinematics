{
 "cells": [
  {
   "cell_type": "code",
   "execution_count": 1,
   "metadata": {},
   "outputs": [],
   "source": [
    "import os\n",
    "\n",
    "import agama\n",
    "import h5py\n",
    "import matplotlib.pyplot as plt\n",
    "import numpy as np\n",
    "from gc_utils import iteration_name, main_prog_halt, snapshot_name  # type: ignore\n",
    "from matplotlib.animation import PillowWriter"
   ]
  },
  {
   "cell_type": "code",
   "execution_count": 2,
   "metadata": {},
   "outputs": [],
   "source": [
    "sim = \"m12i\"\n",
    "\n",
    "sim_dir = \"/Users/z5114326/Documents/simulations/\"\n",
    "data_dir = \"/Users/z5114326/Documents/GitHub/gc_kinematics/data/\"\n",
    "\n",
    "fire_dir = sim_dir + sim + \"/\" + sim + \"_res7100/\"\n",
    "\n",
    "proc_file = sim_dir + sim + \"/\" + sim + \"_processed.hdf5\"\n",
    "proc_data = h5py.File(proc_file, \"r\")  # open processed data file\n",
    "\n",
    "agama.setUnits(mass=1, length=1, velocity=1)"
   ]
  },
  {
   "cell_type": "code",
   "execution_count": 3,
   "metadata": {},
   "outputs": [],
   "source": [
    "it = 0\n",
    "grp_int = 8580896"
   ]
  },
  {
   "cell_type": "code",
   "execution_count": 4,
   "metadata": {},
   "outputs": [],
   "source": [
    "it_id = iteration_name(it)\n",
    "source_dat = proc_data[it_id][\"source\"]\n",
    "\n",
    "source_mask = (np.array(source_dat[\"group_id\"]) == grp_int) & (np.array(source_dat[\"analyse_flag\"]) == 1)\n",
    "\n",
    "snap_acc = np.unique(source_dat[\"snap_acc\"][source_mask])[0]"
   ]
  },
  {
   "cell_type": "code",
   "execution_count": 9,
   "metadata": {},
   "outputs": [
    {
     "data": {
      "text/plain": [
       "<KeysViewHDF5 ['acc_snap', 'ek', 'ep_fire', 'et_norm', 'gc_id', 'group_id', 'lx', 'ly', 'lz', 'lz_norm', 'mass', 'phi_cyl', 'ptype', 'r', 'r_cyl', 'vphi_cyl', 'vr_cyl', 'vx', 'vy', 'vz', 'x', 'y', 'z']>"
      ]
     },
     "execution_count": 9,
     "metadata": {},
     "output_type": "execute_result"
    }
   ],
   "source": [
    "proc_data[it_id][\"snapshots\"][\"snap600\"].keys()"
   ]
  },
  {
   "cell_type": "code",
   "execution_count": 7,
   "metadata": {},
   "outputs": [],
   "source": [
    "key_lst = []\n",
    "for key in proc_data[it_id][\"snapshots\"].keys():\n",
    "    if int(key[4:]) >= snap_acc:\n",
    "        key_lst.append(key)"
   ]
  },
  {
   "cell_type": "code",
   "execution_count": 8,
   "metadata": {},
   "outputs": [],
   "source": [
    "kin_dict = {}\n",
    "\n",
    "for key in key_lst:\n",
    "    snap_dict = proc_data[it_id][\"snapshots\"][key]\n",
    "    snap_mask = np.array(snap_dict[\"group_id\"]) == grp_int\n",
    "\n",
    "    snap = int(key[4:])\n",
    "    pot_file = data_dir + \"potentials/\" + sim + \"/snap_%d/combined_snap_%d.ini\" % (snap, snap)\n",
    "    pot = agama.Potential(pot_file)\n",
    "    af = agama.ActionFinder(pot, interp=False)\n",
    "\n",
    "    et = np.array(snap_dict[\"et\"][snap_mask])\n",
    "    lz = np.array(snap_dict[\"lz\"][snap_mask])\n",
    "\n",
    "    r_circs = pot.Rcirc(E=et)\n",
    "    xyz = np.column_stack((r_circs, r_circs * 0, r_circs * 0))\n",
    "    v_circs = np.sqrt(-r_circs * pot.force(xyz)[:, 0])\n",
    "    vel = np.column_stack((v_circs * 0, v_circs, v_circs * 0))\n",
    "    init_conds = np.concatenate((xyz, vel), axis=1)\n",
    "    lz_circ = af(init_conds)[:, 2]\n",
    "\n",
    "    E_0 = pot.potential((0, 0, 0))\n",
    "\n",
    "    lz_norm = lz / np.array(lz_circ)\n",
    "    et_norm = et / np.abs(E_0)\n",
    "\n",
    "    kin_dict[key] = {}\n",
    "\n",
    "    kin_dict[key][\"lz\"] = lz\n",
    "    kin_dict[key][\"et\"] = et\n",
    "\n",
    "    kin_dict[key][\"lz_norm\"] = lz_norm\n",
    "    kin_dict[key][\"et_norm\"] = et_norm"
   ]
  },
  {
   "cell_type": "code",
   "execution_count": 19,
   "metadata": {},
   "outputs": [
    {
     "data": {
      "text/plain": [
       "array([      -2,       -1,        0,   265300,   707419,   835961,\n",
       "        1157444,  1297671,  1356451,  1574823,  1674369,  1920378,\n",
       "        1920380,  2184477,  2422680,  2800535,  3113442,  3159643,\n",
       "        3739370,  3994037,  4361373,  4414957,  4906476,  5242313,\n",
       "        5583343,  6808839,  8580896,  9106256,  9454779, 13687078,\n",
       "       14194861, 15431197, 16199669, 19898495, 21324265])"
      ]
     },
     "execution_count": 19,
     "metadata": {},
     "output_type": "execute_result"
    }
   ],
   "source": [
    "np.unique(np.array(source_dat[\"group_id\"]))"
   ]
  },
  {
   "cell_type": "code",
   "execution_count": 10,
   "metadata": {},
   "outputs": [],
   "source": [
    "proc_data.close()"
   ]
  }
 ],
 "metadata": {
  "kernelspec": {
   "display_name": ".venv",
   "language": "python",
   "name": "python3"
  },
  "language_info": {
   "codemirror_mode": {
    "name": "ipython",
    "version": 3
   },
   "file_extension": ".py",
   "mimetype": "text/x-python",
   "name": "python",
   "nbconvert_exporter": "python",
   "pygments_lexer": "ipython3",
   "version": "3.12.7"
  }
 },
 "nbformat": 4,
 "nbformat_minor": 2
}
