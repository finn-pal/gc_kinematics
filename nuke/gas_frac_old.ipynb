{
 "cells": [
  {
   "cell_type": "code",
   "execution_count": 2,
   "metadata": {},
   "outputs": [],
   "source": [
    "import gizmo_analysis as gizmo\n",
    "import halo_analysis as halo\n",
    "import matplotlib.pyplot as plt\n",
    "import numpy as np\n",
    "import utilities as ut\n",
    "from gc_utils import get_halo_tree, main_prog_halt  # noqa: F401\n",
    "from scipy.optimize import minimize, minimize_scalar"
   ]
  },
  {
   "cell_type": "code",
   "execution_count": 3,
   "metadata": {},
   "outputs": [],
   "source": [
    "sim = \"m12i\"\n",
    "snapshot = 600\n",
    "\n",
    "sim_dir = \"../../../simulations/\"\n",
    "# sim_dir = \"../../simulations/\"\n",
    "data_dir = \"data/\"\n",
    "sim_codes = data_dir + \"external/simulation_codes.json\"\n",
    "\n",
    "fire_dir = sim_dir + sim + \"/\" + sim + \"_res7100/\""
   ]
  },
  {
   "cell_type": "code",
   "execution_count": 4,
   "metadata": {},
   "outputs": [
    {
     "name": "stderr",
     "output_type": "stream",
     "text": [
      "Retrieving Halo Tree.....................: 100%|████████████████████████████████████████████████████████████████████████| 1/1 [00:01<00:00,  1.20s/it]\n"
     ]
    }
   ],
   "source": [
    "halt = get_halo_tree(sim, sim_dir)"
   ]
  },
  {
   "cell_type": "code",
   "execution_count": 51,
   "metadata": {},
   "outputs": [],
   "source": [
    "snap_lst = np.linspace(10, 600, 591, dtype=int)\n",
    "# hals = halo.io.IO.read_catalogs(\"index\", 600, fire_dir, species=\"star\", assign_hosts_rotation=True)\n",
    "hals = halo.io.IO.read_catalogs(\"index\", 600, fire_dir, species=\"star\")"
   ]
  },
  {
   "cell_type": "code",
   "execution_count": 50,
   "metadata": {},
   "outputs": [],
   "source": [
    "part = gizmo.io.Read.read_snapshots(\"all\", \"index\", 600, fire_dir)"
   ]
  },
  {
   "cell_type": "code",
   "execution_count": 17,
   "metadata": {},
   "outputs": [
    {
     "data": {
      "text/plain": [
       "27728"
      ]
     },
     "execution_count": 17,
     "metadata": {},
     "output_type": "execute_result"
    }
   ],
   "source": [
    "halt[\"catalog.index\"][0]"
   ]
  },
  {
   "cell_type": "code",
   "execution_count": 52,
   "metadata": {},
   "outputs": [
    {
     "data": {
      "text/plain": [
       "dict_keys(['am.phantom', 'am.progenitor.main', 'axis.b/a', 'axis.c/a', 'catalog.index', 'central.index', 'central.local.index', 'descendant.index', 'descendant.snapshot', 'dindex', 'final.index', 'host.distance', 'host.index', 'host.velocity', 'host.velocity.rad', 'host.velocity.tan', 'major.merger.snapshot', 'mass', 'mass.180m', 'mass.200c', 'mass.200m', 'mass.500c', 'mass.bound', 'mass.lowres', 'mass.vir', 'position', 'position.offset', 'progenitor.co.dindex', 'progenitor.co.index', 'progenitor.last.dindex', 'progenitor.main.index', 'progenitor.main.last.dindex', 'progenitor.number', 'radius', 'scale.radius', 'scale.radius.klypin', 'snapshot', 'spin.bullock', 'spin.peebles', 'tid', 'vel.circ.max', 'vel.std', 'velocity', 'velocity.offset'])"
      ]
     },
     "execution_count": 52,
     "metadata": {},
     "output_type": "execute_result"
    }
   ],
   "source": [
    "halt.keys()"
   ]
  },
  {
   "cell_type": "code",
   "execution_count": 54,
   "metadata": {},
   "outputs": [
    {
     "data": {
      "text/plain": [
       "(array([41792.168, 44131.21 , 46267.684], dtype=float32),\n",
       " array([-53.27,  72.65,  95.25], dtype=float32))"
      ]
     },
     "execution_count": 54,
     "metadata": {},
     "output_type": "execute_result"
    }
   ],
   "source": [
    "halt[\"position\"][0], halt[\"velocity\"][0]"
   ]
  },
  {
   "cell_type": "code",
   "execution_count": 62,
   "metadata": {},
   "outputs": [],
   "source": [
    "new_rot = ut.particle.get_principal_axes(\n",
    "    part,\n",
    "    species_name=\"star\",\n",
    "    center_positions=halt[\"position\"][0],\n",
    "    center_velocities=halt[\"velocity\"][0],\n",
    ")"
   ]
  },
  {
   "cell_type": "code",
   "execution_count": 63,
   "metadata": {},
   "outputs": [
    {
     "data": {
      "text/plain": [
       "dict_keys(['rotation', 'axis.ratios'])"
      ]
     },
     "execution_count": 63,
     "metadata": {},
     "output_type": "execute_result"
    }
   ],
   "source": [
    "new_rot.keys()"
   ]
  },
  {
   "cell_type": "code",
   "execution_count": 64,
   "metadata": {},
   "outputs": [
    {
     "name": "stderr",
     "output_type": "stream",
     "text": [
      "/Users/z5114326/Documents/GitHub/gc_kinematics/.venv/lib/python3.12/site-packages/utilities/binning.py:832: RuntimeWarning: invalid value encountered in divide\n",
      "  pro['density.norm'] = pro['sum'] / self.volume_fracs / np.sum(pro['sum'])\n",
      "/Users/z5114326/Documents/GitHub/gc_kinematics/.venv/lib/python3.12/site-packages/utilities/binning.py:840: RuntimeWarning: invalid value encountered in divide\n",
      "  pro['fraction'] = pro['sum'] / np.sum(pro['sum'])\n",
      "/Users/z5114326/Documents/GitHub/gc_kinematics/.venv/lib/python3.12/site-packages/utilities/binning.py:842: RuntimeWarning: invalid value encountered in divide\n",
      "  pro['fraction.cum'] = pro['sum.cum'] / pro['sum.cum'].max()\n"
     ]
    }
   ],
   "source": [
    "SpeciesProfile = ut.particle.SpeciesProfileClass(limits=[0, 336], width=336 / 2)\n",
    "pro = SpeciesProfile.get_sum_profiles(\n",
    "    part, \"all\", \"mass\", center_position=halt[\"position\"][0], rotation=new_rot[\"rotation\"]\n",
    ")"
   ]
  },
  {
   "cell_type": "code",
   "execution_count": 65,
   "metadata": {},
   "outputs": [
    {
     "data": {
      "text/plain": [
       "1180536922112.0"
      ]
     },
     "execution_count": 65,
     "metadata": {},
     "output_type": "execute_result"
    }
   ],
   "source": [
    "np.sum(pro[\"total\"][\"sum\"])"
   ]
  },
  {
   "cell_type": "code",
   "execution_count": 66,
   "metadata": {},
   "outputs": [
    {
     "data": {
      "text/plain": [
       "9.09705"
      ]
     },
     "execution_count": 66,
     "metadata": {},
     "output_type": "execute_result"
    }
   ],
   "source": [
    "hals[\"star.radius.90\"][27728]"
   ]
  },
  {
   "cell_type": "code",
   "execution_count": 55,
   "metadata": {},
   "outputs": [
    {
     "data": {
      "text/plain": [
       "dict_keys(['position', 'velocity', 'acceleration', 'rotation', 'axis.ratios'])"
      ]
     },
     "execution_count": 55,
     "metadata": {},
     "output_type": "execute_result"
    }
   ],
   "source": [
    "part.host.keys()"
   ]
  },
  {
   "cell_type": "code",
   "execution_count": 57,
   "metadata": {},
   "outputs": [
    {
     "data": {
      "text/plain": [
       "array([[41792.15 , 44131.234, 46267.68 ]], dtype=float32)"
      ]
     },
     "execution_count": 57,
     "metadata": {},
     "output_type": "execute_result"
    }
   ],
   "source": [
    "part.host[\"position\"]"
   ]
  },
  {
   "cell_type": "code",
   "execution_count": 68,
   "metadata": {},
   "outputs": [
    {
     "ename": "KeyError",
     "evalue": "'not sure how to parse property = baryon.mass'",
     "output_type": "error",
     "traceback": [
      "\u001b[0;31m---------------------------------------------------------------------------\u001b[0m",
      "\u001b[0;31mKeyError\u001b[0m                                  Traceback (most recent call last)",
      "Cell \u001b[0;32mIn[68], line 1\u001b[0m\n\u001b[0;32m----> 1\u001b[0m \u001b[43mhals\u001b[49m\u001b[38;5;241;43m.\u001b[39;49m\u001b[43mprop\u001b[49m\u001b[43m(\u001b[49m\u001b[38;5;124;43m\"\u001b[39;49m\u001b[38;5;124;43mbaryon.mass\u001b[39;49m\u001b[38;5;124;43m\"\u001b[39;49m\u001b[43m)\u001b[49m\n",
      "File \u001b[0;32m~/Documents/GitHub/gc_kinematics/.venv/lib/python3.12/site-packages/halo_analysis/halo_io.py:620\u001b[0m, in \u001b[0;36mHaloDictionaryClass.prop\u001b[0;34m(self, property_name, indices, _dict_only)\u001b[0m\n\u001b[1;32m    617\u001b[0m     \u001b[38;5;28;01mreturn\u001b[39;00m values\n\u001b[1;32m    619\u001b[0m \u001b[38;5;66;03m# should not get this far without a return\u001b[39;00m\n\u001b[0;32m--> 620\u001b[0m \u001b[38;5;28;01mraise\u001b[39;00m \u001b[38;5;167;01mKeyError\u001b[39;00m(\u001b[38;5;124mf\u001b[39m\u001b[38;5;124m'\u001b[39m\u001b[38;5;124mnot sure how to parse property = \u001b[39m\u001b[38;5;132;01m{\u001b[39;00mproperty_name\u001b[38;5;132;01m}\u001b[39;00m\u001b[38;5;124m'\u001b[39m)\n",
      "\u001b[0;31mKeyError\u001b[0m: 'not sure how to parse property = baryon.mass'"
     ]
    }
   ],
   "source": [
    "hals.prop(\"baryon.mass\")"
   ]
  },
  {
   "cell_type": "code",
   "execution_count": 69,
   "metadata": {},
   "outputs": [
    {
     "data": {
      "text/plain": [
       "array([ 1,  2,  3,  4,  5,  6,  7,  8,  9, 10, 11, 12, 13, 14, 15, 16, 17,\n",
       "       18, 19, 20, 21, 22, 23, 24, 25, 26, 27, 28, 29, 30, 31, 32, 33, 34,\n",
       "       35, 36], dtype=int32)"
      ]
     },
     "execution_count": 69,
     "metadata": {},
     "output_type": "execute_result"
    }
   ],
   "source": [
    "halt.prop(\"progenitor.indices\", 0)"
   ]
  }
 ],
 "metadata": {
  "kernelspec": {
   "display_name": ".venv",
   "language": "python",
   "name": "python3"
  },
  "language_info": {
   "codemirror_mode": {
    "name": "ipython",
    "version": 3
   },
   "file_extension": ".py",
   "mimetype": "text/x-python",
   "name": "python",
   "nbconvert_exporter": "python",
   "pygments_lexer": "ipython3",
   "version": "3.12.7"
  }
 },
 "nbformat": 4,
 "nbformat_minor": 2
}
