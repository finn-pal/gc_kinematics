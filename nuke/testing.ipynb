{
 "cells": [
  {
   "cell_type": "code",
   "execution_count": 5,
   "metadata": {},
   "outputs": [],
   "source": [
    "import agama\n",
    "import gizmo_analysis as gizmo\n",
    "import h5py\n",
    "import numpy as np\n",
    "import utilities as ut\n",
    "from gc_utils import iteration_name, open_snapshot, snapshot_name  # type: ignore"
   ]
  },
  {
   "cell_type": "code",
   "execution_count": 6,
   "metadata": {},
   "outputs": [],
   "source": [
    "simulation = \"m12i\"\n",
    "\n",
    "sim_dir = \"/Users/z5114326/Documents/simulations/\"\n",
    "data_dir = \"/Users/z5114326/Documents/GitHub/gc_kinematics/data/\"\n",
    "\n",
    "fire_dir = sim_dir + simulation + \"/\" + simulation + \"_res7100/\""
   ]
  },
  {
   "cell_type": "code",
   "execution_count": 7,
   "metadata": {},
   "outputs": [],
   "source": [
    "it_lst = np.array([1])\n",
    "snapshot = 600"
   ]
  },
  {
   "cell_type": "code",
   "execution_count": 8,
   "metadata": {},
   "outputs": [
    {
     "name": "stdout",
     "output_type": "stream",
     "text": [
      "\n",
      "# in utilities.simulation.Snapshot():\n",
      "* reading:  Users/z5114326/Documents/simulations/m12i/m12i_res7100/snapshot_times.txt\n",
      "\n",
      "  using snapshot index = 600, redshift = 0.000\n",
      "\n",
      "\n",
      "# in gizmo_analysis.gizmo_io.Read():\n",
      "* reading header from:  Users/z5114326/Documents/simulations/m12i/m12i_res7100/output/snapdir_600/snapshot_600.0.hdf5\n",
      "  snapshot contains the following number of particles:\n",
      "    dark      (id = 1): 70514272 particles\n",
      "    dark2     (id = 2): 5513331 particles\n",
      "    gas       (id = 0): 57060074 particles\n",
      "    star      (id = 4): 13976485 particles\n",
      "    blackhole (id = 5): 0 particles\n",
      "\n",
      "* reading the following\n",
      "  species: ['dark', 'dark2', 'gas', 'star']\n",
      "\n",
      "* reading particles from:\n",
      "    snapshot_600.0.hdf5\n",
      "    snapshot_600.1.hdf5\n",
      "    snapshot_600.2.hdf5\n",
      "    snapshot_600.3.hdf5\n",
      "\n",
      "* reading cosmological parameters from:  Users/z5114326/Documents/simulations/m12i/m12i_res7100/initial_condition/ic_agora_m12i.conf\n",
      "\n",
      "* checking sanity of particle properties\n",
      "\n",
      "\n",
      "# in gizmo_analysis.gizmo_track.ParticleCoordinate():\n",
      "  read 1 host (position, velocity, principal axes) from:  Users/z5114326/Documents/simulations/m12i/m12i_res7100/track/host_coordinates.hdf5\n",
      "  host1 position = (41792.15, 44131.23, 46267.68) [kpc comoving]\n",
      "  host1 velocity = (-52.2, 73.6, 94.7) [km/s]\n",
      "  host1 axis ratios = (0.16, 0.16, 0.99)\n",
      "\n"
     ]
    }
   ],
   "source": [
    "part = gizmo.io.Read.read_snapshots(\"all\", \"index\", snapshot, fire_dir, assign_hosts_rotation=True)"
   ]
  },
  {
   "cell_type": "code",
   "execution_count": 10,
   "metadata": {},
   "outputs": [],
   "source": [
    "sim = simulation\n",
    "\n",
    "proc_file = sim_dir + sim + \"/\" + sim + \"_processed.hdf5\"\n",
    "potential_file = data_dir + \"potentials/\" + sim + \"/snap_%d/combined_snap_%d.ini\" % (snapshot, snapshot)\n",
    "\n",
    "proc_data = h5py.File(proc_file, \"a\")  # open processed data file\n",
    "pot_nbody = agama.Potential(potential_file)\n",
    "af = agama.ActionFinder(pot_nbody, interp=False)"
   ]
  },
  {
   "cell_type": "code",
   "execution_count": 56,
   "metadata": {},
   "outputs": [],
   "source": [
    "snap_id = snapshot_name(snapshot)\n",
    "host_index = 0\n",
    "\n",
    "for it in it_lst:\n",
    "    it_id = iteration_name(it)\n",
    "\n",
    "    gc_id_snap = proc_data[it_id][\"snapshots\"][snap_id][\"gc_id\"]\n",
    "\n",
    "    if len(gc_id_snap) is None:\n",
    "        continue\n",
    "\n",
    "    ptype_byte_snap = proc_data[it_id][\"snapshots\"][snap_id][\"ptype\"]\n",
    "    ptype_snap = [ptype.decode(\"utf-8\") for ptype in ptype_byte_snap]\n",
    "\n",
    "    host_name = ut.catalog.get_host_name(host_index)\n",
    "\n",
    "    x_lst = []\n",
    "    y_lst = []\n",
    "    z_lst = []\n",
    "    vx_lst = []\n",
    "    vy_lst = []\n",
    "    vz_lst = []\n",
    "\n",
    "    r_cyl_lst = []\n",
    "    phi_cyl_lst = []\n",
    "    vr_cyl_lst = []\n",
    "    vphi_cyl_lst = []\n",
    "\n",
    "    init_cond_lst = []\n",
    "\n",
    "    r_lst = []\n",
    "    # r_per_lst = []\n",
    "    # r_apo_lst = []\n",
    "\n",
    "    ep_fire_lst = []\n",
    "    # ep_agama_lst = []\n",
    "    ek_lst = []\n",
    "    # et_lst = []\n",
    "\n",
    "    lx_lst = []\n",
    "    ly_lst = []\n",
    "    lz_lst = []\n",
    "\n",
    "    # jr_lst = []\n",
    "    # jz_lst = []\n",
    "    # jphi_lst = []\n",
    "\n",
    "    for gc, ptype in zip(gc_id_snap, ptype_snap):\n",
    "        idx = np.where(part[ptype][\"id\"] == gc)[0][0]\n",
    "        pos_xyz = part[ptype].prop(f\"{host_name}.distance.principal\", idx)\n",
    "        vel_xyz = part[ptype].prop(f\"{host_name}.velocity.principal\", idx)\n",
    "\n",
    "        pos_cyl = part[ptype].prop(f\"{host_name}.distance.principal.cylindrical\", idx)\n",
    "        vel_cyl = part[ptype].prop(f\"{host_name}.velocity.principal.cylindrical\", idx)\n",
    "\n",
    "        ep_fir = part[ptype][\"potential\"][idx]\n",
    "\n",
    "        init_cond = np.concatenate((pos_xyz, vel_xyz))\n",
    "\n",
    "        x, y, z = pos_xyz\n",
    "        vx, vy, vz = vel_xyz\n",
    "\n",
    "        r_cyl, phi_cyl, _ = pos_cyl\n",
    "        vr_cyl, vphi_cyl, _ = vel_cyl\n",
    "\n",
    "        ek = 0.5 * np.linalg.norm(vel_xyz) ** 2\n",
    "\n",
    "        r = np.linalg.norm(pos_xyz)\n",
    "\n",
    "        lx = y * vz - z * vy\n",
    "        ly = z * vx - x * vz\n",
    "        lz = x * vy - y * vx\n",
    "\n",
    "        x_lst.append(x)\n",
    "        y_lst.append(y)\n",
    "        z_lst.append(z)\n",
    "        vx_lst.append(vx)\n",
    "        vy_lst.append(vy)\n",
    "        vz_lst.append(vz)\n",
    "\n",
    "        r_cyl_lst.append(r_cyl)\n",
    "        phi_cyl_lst.append(phi_cyl)\n",
    "        vr_cyl_lst.append(vr_cyl)\n",
    "        vphi_cyl_lst.append(vphi_cyl)\n",
    "\n",
    "        r_lst.append(r)\n",
    "\n",
    "        ep_fire_lst.append(ep_fir)\n",
    "        ek_lst.append(ek)\n",
    "\n",
    "        lx_lst.append(lx)\n",
    "        ly_lst.append(ly)\n",
    "        lz_lst.append(lz)\n",
    "\n",
    "        init_cond_lst.append(init_cond)\n",
    "\n",
    "ioms = af(init_cond_lst)\n",
    "jr_lst = ioms[:, 0]\n",
    "jz_lst = ioms[:, 1]\n",
    "jphi_lst = ioms[:, 2]\n",
    "\n",
    "radii_pos = pot_nbody.Rperiapo(init_cond_lst)\n",
    "r_per = radii_pos[:, 0]\n",
    "r_apo = radii_pos[:, 1]\n",
    "\n",
    "ep_aga = pot_nbody.potential(np.array(init_cond_lst)[:, 0:3])\n",
    "et = ep_aga + ek_lst"
   ]
  },
  {
   "cell_type": "code",
   "execution_count": 59,
   "metadata": {},
   "outputs": [
    {
     "data": {
      "text/plain": [
       "(-817.0752218122228, -817.0752218122228)"
      ]
     },
     "execution_count": 59,
     "metadata": {},
     "output_type": "execute_result"
    }
   ],
   "source": [
    "lz_lst[0], jphi_lst[0]"
   ]
  }
 ],
 "metadata": {
  "kernelspec": {
   "display_name": ".venv",
   "language": "python",
   "name": "python3"
  },
  "language_info": {
   "codemirror_mode": {
    "name": "ipython",
    "version": 3
   },
   "file_extension": ".py",
   "mimetype": "text/x-python",
   "name": "python",
   "nbconvert_exporter": "python",
   "pygments_lexer": "ipython3",
   "version": "3.12.7"
  }
 },
 "nbformat": 4,
 "nbformat_minor": 2
}
