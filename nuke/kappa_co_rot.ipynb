{
 "cells": [
  {
   "cell_type": "code",
   "execution_count": 204,
   "metadata": {},
   "outputs": [],
   "source": [
    "import gizmo_analysis as gizmo\n",
    "import halo_analysis as halo\n",
    "import numpy as np\n",
    "import utilities as ut\n",
    "from gc_utils import get_halo_tree, open_snapshot, snapshot_name  # noqa: F401\n",
    "from scipy.optimize import minimize, minimize_scalar"
   ]
  },
  {
   "cell_type": "code",
   "execution_count": 205,
   "metadata": {},
   "outputs": [],
   "source": [
    "simulation = \"m12i\"\n",
    "snapshot = 600\n",
    "\n",
    "sim_dir = \"../../../simulations/\"\n",
    "# sim_dir = \"../../simulations/\"\n",
    "data_dir = \"data/\"\n",
    "sim_codes = data_dir + \"external/simulation_codes.json\"\n",
    "\n",
    "fire_dir = sim_dir + simulation + \"/\" + simulation + \"_res7100/\""
   ]
  },
  {
   "cell_type": "code",
   "execution_count": 206,
   "metadata": {},
   "outputs": [
    {
     "name": "stderr",
     "output_type": "stream",
     "text": [
      "Retrieving Halo Tree.....................: 100%|████████████████████████████████████████████████████████████████████████| 1/1 [00:01<00:00,  1.66s/it]\n"
     ]
    }
   ],
   "source": [
    "halt = get_halo_tree(simulation, sim_dir)"
   ]
  },
  {
   "cell_type": "code",
   "execution_count": 207,
   "metadata": {},
   "outputs": [
    {
     "data": {
      "text/plain": [
       "dict_keys(['am.phantom', 'am.progenitor.main', 'axis.b/a', 'axis.c/a', 'catalog.index', 'central.index', 'central.local.index', 'descendant.index', 'descendant.snapshot', 'dindex', 'final.index', 'host.distance', 'host.index', 'host.velocity', 'host.velocity.rad', 'host.velocity.tan', 'major.merger.snapshot', 'mass', 'mass.180m', 'mass.200c', 'mass.200m', 'mass.500c', 'mass.bound', 'mass.lowres', 'mass.vir', 'position', 'position.offset', 'progenitor.co.dindex', 'progenitor.co.index', 'progenitor.last.dindex', 'progenitor.main.index', 'progenitor.main.last.dindex', 'progenitor.number', 'radius', 'scale.radius', 'scale.radius.klypin', 'snapshot', 'spin.bullock', 'spin.peebles', 'tid', 'vel.circ.max', 'vel.std', 'velocity', 'velocity.offset'])"
      ]
     },
     "execution_count": 207,
     "metadata": {},
     "output_type": "execute_result"
    }
   ],
   "source": [
    "halt.keys()"
   ]
  },
  {
   "cell_type": "code",
   "execution_count": 208,
   "metadata": {},
   "outputs": [],
   "source": [
    "# part = open_snapshot(snapshot, fire_dir)\n",
    "\n",
    "# lets use cold gas and star particles\n",
    "# cold gass\n",
    "# tsel = np.log10(part[\"gas\"][\"temperature\"]) < 4.5\n",
    "part = gizmo.io.Read.read_snapshots([\"star\", \"gas\"], \"index\", snapshot, fire_dir, assign_hosts_rotation=True)"
   ]
  },
  {
   "cell_type": "code",
   "execution_count": 209,
   "metadata": {},
   "outputs": [],
   "source": [
    "def mass_dif(r_test, host_name, gas_tot):\n",
    "    gas_mask_test = part[\"gas\"].prop(f\"{host_name}.distance.principal.total\") <= r_test\n",
    "    gas_mass_test = np.sum(part[\"gas\"][\"mass\"][gas_mask_test])\n",
    "\n",
    "    mass_dif = np.abs((gas_tot / 2) - gas_mass_test)\n",
    "    return mass_dif"
   ]
  },
  {
   "cell_type": "code",
   "execution_count": 210,
   "metadata": {},
   "outputs": [],
   "source": [
    "host_index = 0\n",
    "r_vir = halt[\"radius\"][host_index]\n",
    "host_name = ut.catalog.get_host_name(host_index)\n",
    "\n",
    "gas_mask = part[\"gas\"].prop(f\"{host_name}.distance.principal.total\") < r_vir\n",
    "gas_tot = np.sum(part[\"gas\"][\"mass\"][gas_mask])\n",
    "\n",
    "res = minimize_scalar(mass_dif, bounds=(0, r_vir), method=\"bounded\", args=(host_name, gas_tot))\n",
    "r_50 = res.x"
   ]
  },
  {
   "cell_type": "code",
   "execution_count": 211,
   "metadata": {},
   "outputs": [],
   "source": [
    "def kappa_co(part, snapshot: int, r_50: float, log_t_max: float = 4.5):\n",
    "    # get star values ####################################\n",
    "    # only select stars within r_50\n",
    "    star_mask = part[\"star\"].prop(f\"{host_name}.distance.principal.total\") < r_50\n",
    "\n",
    "    # get 3D positions and velocities\n",
    "    vel_xyz_star = part[\"star\"].prop(f\"{host_name}.velocity.principal\")[star_mask]\n",
    "    pos_xyz_star = part[\"star\"].prop(f\"{host_name}.distance.principal\")[star_mask]\n",
    "\n",
    "    # particle distances from z-axis\n",
    "    star_rho = part[\"star\"].prop(f\"{host_name}.distance.principal.cylindrical\")[:, 0][star_mask]\n",
    "\n",
    "    # star mass\n",
    "    star_mass = part[\"star\"][\"mass\"][star_mask]\n",
    "\n",
    "    # total stellar kinematic energy\n",
    "    ek_tot_star = (star_mass) * 0.5 * np.linalg.norm(vel_xyz_star, axis=1) ** 2\n",
    "\n",
    "    # get angular momentume and create mask\n",
    "    lz_star = (pos_xyz_star[:, 0] * vel_xyz_star[:, 1] - pos_xyz_star[:, 1] * vel_xyz_star[:, 0]) * star_mass\n",
    "    lz_star_mask = lz_star > 0\n",
    "\n",
    "    # get energies of co-rotating particles\n",
    "    K_co_star = np.sum(\n",
    "        0.5\n",
    "        * star_mass[lz_star_mask]\n",
    "        * (lz_star[lz_star_mask] / (star_mass[lz_star_mask] * star_rho[lz_star_mask])) ** 2\n",
    "    )\n",
    "\n",
    "    # get gas values #####################################\n",
    "    # only select cold gas particles within r_50\n",
    "    tsel = np.log10(part[\"gas\"][\"temperature\"]) < log_t_max\n",
    "    gas_mask = part[\"gas\"].prop(f\"{host_name}.distance.principal.total\") < r_50\n",
    "\n",
    "    # get 3D positions and velocities\n",
    "    vel_xyz_gas = part[\"gas\"].prop(f\"{host_name}.velocity.principal\")[gas_mask & tsel]\n",
    "    pos_xyz_gas = part[\"gas\"].prop(f\"{host_name}.distance.principal\")[gas_mask & tsel]\n",
    "\n",
    "    # particle distances from z-axis\n",
    "    gas_rho = part[\"gas\"].prop(f\"{host_name}.distance.principal.cylindrical\")[:, 0][gas_mask & tsel]\n",
    "\n",
    "    # gas mass\n",
    "    gas_mass = part[\"gas\"][\"mass\"][gas_mask & tsel]\n",
    "\n",
    "    # total gas kinematic energy\n",
    "    ek_tot_gas = (gas_mass) * 0.5 * np.linalg.norm(vel_xyz_gas, axis=1) ** 2\n",
    "\n",
    "    # combined total energy\n",
    "    ek_tot = np.sum(ek_tot_star) + np.sum(ek_tot_gas)\n",
    "\n",
    "    # get angular momentume and create mask\n",
    "    lz_gas = (pos_xyz_gas[:, 0] * vel_xyz_gas[:, 1] - pos_xyz_gas[:, 1] * vel_xyz_gas[:, 0]) * gas_mass\n",
    "    lz_gas_mask = lz_gas > 0\n",
    "\n",
    "    # get energies of co-rotating particles\n",
    "    K_co_gas = np.sum(\n",
    "        0.5\n",
    "        * gas_mass[lz_gas_mask]\n",
    "        * (lz_gas[lz_gas_mask] / (gas_mass[lz_gas_mask] * gas_rho[lz_gas_mask])) ** 2\n",
    "    )\n",
    "\n",
    "    # combine stars and cold gas ###################################\n",
    "    ek_tot = np.sum(ek_tot_star) + np.sum(ek_tot_gas)\n",
    "    K_co = K_co_star + K_co_gas\n",
    "\n",
    "    kappa_co = K_co / ek_tot\n",
    "\n",
    "    snap_id = snapshot_name(snapshot)\n",
    "\n",
    "    kappa_dict = {}\n",
    "    kappa_dict[snap_id] = kappa_co\n",
    "\n",
    "    return kappa_dict"
   ]
  },
  {
   "cell_type": "code",
   "execution_count": 213,
   "metadata": {},
   "outputs": [
    {
     "data": {
      "text/plain": [
       "{'snap600': 0.622937503388397}"
      ]
     },
     "execution_count": 213,
     "metadata": {},
     "output_type": "execute_result"
    }
   ],
   "source": [
    "kappa_co(part, snapshot, r_50)"
   ]
  }
 ],
 "metadata": {
  "kernelspec": {
   "display_name": ".venv",
   "language": "python",
   "name": "python3"
  },
  "language_info": {
   "codemirror_mode": {
    "name": "ipython",
    "version": 3
   },
   "file_extension": ".py",
   "mimetype": "text/x-python",
   "name": "python",
   "nbconvert_exporter": "python",
   "pygments_lexer": "ipython3",
   "version": "3.12.7"
  }
 },
 "nbformat": 4,
 "nbformat_minor": 2
}
