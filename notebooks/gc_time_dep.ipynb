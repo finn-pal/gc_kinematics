{
 "cells": [
  {
   "cell_type": "code",
   "execution_count": 68,
   "metadata": {},
   "outputs": [],
   "source": [
    "import os\n",
    "\n",
    "import agama\n",
    "import h5py\n",
    "import matplotlib.pyplot as plt\n",
    "import numpy as np\n",
    "from gc_utils import iteration_name, main_prog_halt, snapshot_name  # type: ignore\n",
    "from matplotlib.animation import PillowWriter"
   ]
  },
  {
   "cell_type": "code",
   "execution_count": 69,
   "metadata": {},
   "outputs": [],
   "source": [
    "sim = \"m12i\"\n",
    "\n",
    "sim_dir = \"/Users/z5114326/Documents/simulations/\"\n",
    "data_dir = \"/Users/z5114326/Documents/GitHub/gc_kinematics/data/\"\n",
    "\n",
    "fire_dir = sim_dir + sim + \"/\" + sim + \"_res7100/\"\n",
    "\n",
    "proc_file = sim_dir + sim + \"/\" + sim + \"_processed.hdf5\"\n",
    "proc_data = h5py.File(proc_file, \"r\")  # open processed data file\n",
    "\n",
    "agama.setUnits(mass=1, length=1, velocity=1)"
   ]
  },
  {
   "cell_type": "code",
   "execution_count": 70,
   "metadata": {},
   "outputs": [],
   "source": [
    "it = 70\n",
    "grp_int = 8580896\n",
    "\n",
    "it_id = iteration_name(it)\n",
    "source_dat = proc_data[it_id][\"source\"]\n",
    "\n",
    "source_mask = (np.array(source_dat[\"group_id\"]) == grp_int) & (np.array(source_dat[\"analyse_flag\"]) == 1)\n",
    "\n",
    "snap_acc = np.unique(source_dat[\"snap_acc\"][source_mask])[0]"
   ]
  },
  {
   "cell_type": "code",
   "execution_count": 71,
   "metadata": {},
   "outputs": [],
   "source": [
    "key_lst = []\n",
    "for key in proc_data[it_id][\"snapshots\"].keys():\n",
    "    if int(key[4:]) >= snap_acc:\n",
    "        key_lst.append(key)"
   ]
  },
  {
   "cell_type": "code",
   "execution_count": 72,
   "metadata": {},
   "outputs": [],
   "source": [
    "kin_dict = {}\n",
    "\n",
    "for key in key_lst:\n",
    "    snap_dict = proc_data[it_id][\"snapshots\"][key]\n",
    "    snap_mask = np.array(snap_dict[\"group_id\"]) == grp_int\n",
    "\n",
    "    snap = int(key[4:])\n",
    "    pot_file = data_dir + \"potentials/\" + sim + \"/snap_%d/combined_snap_%d.ini\" % (snap, snap)\n",
    "    pot = agama.Potential(pot_file)\n",
    "    af = agama.ActionFinder(pot, interp=False)\n",
    "\n",
    "    et = np.array(snap_dict[\"et\"][snap_mask])\n",
    "    lz = np.array(snap_dict[\"lz\"][snap_mask])\n",
    "\n",
    "    r_circs = pot.Rcirc(E=et)\n",
    "    xyz = np.column_stack((r_circs, r_circs * 0, r_circs * 0))\n",
    "    v_circs = np.sqrt(-r_circs * pot.force(xyz)[:, 0])\n",
    "    vel = np.column_stack((v_circs * 0, v_circs, v_circs * 0))\n",
    "    init_conds = np.concatenate((xyz, vel), axis=1)\n",
    "    lz_circ = af(init_conds)[:, 2]\n",
    "\n",
    "    E_0 = pot.potential((0, 0, 0))\n",
    "\n",
    "    lz_norm = lz / np.array(lz_circ)\n",
    "    et_norm = et / np.abs(E_0)\n",
    "\n",
    "    kin_dict[key] = {}\n",
    "\n",
    "    kin_dict[key][\"lz\"] = lz\n",
    "    kin_dict[key][\"et\"] = et\n",
    "\n",
    "    kin_dict[key][\"lz_norm\"] = lz_norm\n",
    "    kin_dict[key][\"et_norm\"] = et_norm\n",
    "\n",
    "\n",
    "# pos = np.array([snap_dict[\"x\"][snap_mask], snap_dict[\"y\"][snap_mask], snap_dict[\"z\"][snap_mask]]).T\n",
    "# vel = np.array([snap_dict[\"vx\"][snap_mask], snap_dict[\"vy\"][snap_mask], snap_dict[\"vz\"][snap_mask]]).T\n",
    "\n",
    "# init_cond = np.hstack((pos, vel))"
   ]
  },
  {
   "cell_type": "code",
   "execution_count": 73,
   "metadata": {},
   "outputs": [
    {
     "data": {
      "text/plain": [
       "<Figure size 1600x1600 with 0 Axes>"
      ]
     },
     "metadata": {},
     "output_type": "display_data"
    }
   ],
   "source": [
    "# key = \"snap600\"\n",
    "\n",
    "metadata = dict(title=\"IOM_hist_plot\", artist=\"Finn\")\n",
    "writer = PillowWriter(fps=2, metadata=metadata)\n",
    "\n",
    "fig = plt.figure(figsize=(16, 16))\n",
    "fig_shape = (1, 1)\n",
    "\n",
    "gif_loc = data_dir + \"gifs/\" + sim\n",
    "\n",
    "if not os.path.exists(gif_loc):\n",
    "    os.makedirs(gif_loc)\n",
    "\n",
    "gif_file = gif_loc + \"/\" + sim + \"_test_\" + it_id + \".gif\"\n",
    "with writer.saving(fig, gif_file, 100):\n",
    "    for key in kin_dict:\n",
    "        ax = plt.subplot2grid(shape=fig_shape, loc=(0, 0))\n",
    "\n",
    "        ax.scatter(kin_dict[key][\"lz_norm\"], kin_dict[key][\"et_norm\"], s=5)\n",
    "        ax.set_xlim(-1.1, 1.1)\n",
    "        ax.set_ylim(-1, 0)\n",
    "\n",
    "        ax.set_xlabel(r\"$\\epsilon  \\equiv L_{z}$ / $L_{\\mathrm{circ}}$(E)\")\n",
    "        ax.set_ylabel(r\"$e  \\equiv E$ / $|E_{0}|$\")\n",
    "\n",
    "        ax.text(\n",
    "            +0.5,\n",
    "            -0.05,\n",
    "            \"Iteration: \" + str(it) + \"\\n\" + \"Group: \" + str(grp_int) + \"\\n\" + key,\n",
    "            ha=\"left\",\n",
    "            va=\"top\",\n",
    "        )\n",
    "        writer.grab_frame()\n",
    "        fig.clear()"
   ]
  },
  {
   "cell_type": "code",
   "execution_count": 74,
   "metadata": {},
   "outputs": [],
   "source": [
    "proc_data.close()"
   ]
  }
 ],
 "metadata": {
  "kernelspec": {
   "display_name": ".venv",
   "language": "python",
   "name": "python3"
  },
  "language_info": {
   "codemirror_mode": {
    "name": "ipython",
    "version": 3
   },
   "file_extension": ".py",
   "mimetype": "text/x-python",
   "name": "python",
   "nbconvert_exporter": "python",
   "pygments_lexer": "ipython3",
   "version": "3.12.7"
  }
 },
 "nbformat": 4,
 "nbformat_minor": 2
}
